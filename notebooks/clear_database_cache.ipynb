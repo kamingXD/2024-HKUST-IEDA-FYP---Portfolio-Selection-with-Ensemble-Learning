{
 "cells": [
  {
   "cell_type": "markdown",
   "source": [
    "# Delete the DB and run the following commands to clear database cache"
   ],
   "metadata": {
    "collapsed": false
   },
   "id": "f0941e762dfc3952"
  },
  {
   "cell_type": "code",
   "execution_count": 5,
   "outputs": [],
   "source": [
    "from helperclass.database import *\n",
    "con = sqlite3.connect(\"../helperData/HistoryResult.db\")\n",
    "cur = con.cursor()\n",
    "cur.execute(\"DROP TABLE IF EXISTS Details\")\n",
    "cur.execute(\"DROP TABLE IF EXISTS Weights\")\n",
    "con.commit()"
   ],
   "metadata": {
    "collapsed": false,
    "ExecuteTime": {
     "end_time": "2024-04-29T22:03:17.633882800Z",
     "start_time": "2024-04-29T22:03:17.628407400Z"
    }
   },
   "id": "5bbe95a9e2039fd3"
  },
  {
   "cell_type": "code",
   "execution_count": 6,
   "outputs": [],
   "source": [
    "# Create new tables\n",
    "cur.execute(\"CREATE TABLE Details(RunID, Method, Gamma2, AggregateMethod, N_Day_Rebalance, TrainStart, TrainEnd, TestEnd, Return, SharpeRatio, Volatility, TurnoverRate, MaximumDrawdown, s, b, n_1, n_2, n_3, n_4, StocksCount, StocksLabel)\")\n",
    "cur.execute(\"CREATE TABLE Weights(RunID, DayID, Weights)\")\n",
    "con.commit()"
   ],
   "metadata": {
    "collapsed": false,
    "ExecuteTime": {
     "end_time": "2024-04-29T22:03:18.051430200Z",
     "start_time": "2024-04-29T22:03:18.040002300Z"
    }
   },
   "id": "e147ec11280c4e8a"
  },
  {
   "cell_type": "code",
   "execution_count": 7,
   "outputs": [],
   "source": [
    "con.close()"
   ],
   "metadata": {
    "collapsed": false,
    "ExecuteTime": {
     "end_time": "2024-04-29T22:03:18.430128300Z",
     "start_time": "2024-04-29T22:03:18.419195100Z"
    }
   },
   "id": "94c809eb09990f7f"
  }
 ],
 "metadata": {
  "kernelspec": {
   "display_name": "Python 3",
   "language": "python",
   "name": "python3"
  },
  "language_info": {
   "codemirror_mode": {
    "name": "ipython",
    "version": 2
   },
   "file_extension": ".py",
   "mimetype": "text/x-python",
   "name": "python",
   "nbconvert_exporter": "python",
   "pygments_lexer": "ipython2",
   "version": "2.7.6"
  }
 },
 "nbformat": 4,
 "nbformat_minor": 5
}
