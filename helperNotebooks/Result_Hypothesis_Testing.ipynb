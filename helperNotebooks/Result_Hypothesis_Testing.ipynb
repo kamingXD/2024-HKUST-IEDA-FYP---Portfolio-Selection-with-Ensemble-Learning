{
 "cells": [
  {
   "cell_type": "code",
   "execution_count": 1,
   "id": "25401ca6",
   "metadata": {
    "ExecuteTime": {
     "end_time": "2024-04-29T22:23:34.909392600Z",
     "start_time": "2024-04-29T22:23:33.819995Z"
    }
   },
   "outputs": [],
   "source": [
    "import pandas as pd\n",
    "import os\n",
    "import sqlite3 as db\n",
    "from scipy.stats import ttest_1samp\n",
    "import numpy as np"
   ]
  },
  {
   "cell_type": "code",
   "execution_count": 2,
   "id": "8dcec38c",
   "metadata": {
    "ExecuteTime": {
     "end_time": "2024-04-29T22:23:34.962520700Z",
     "start_time": "2024-04-29T22:23:34.915915600Z"
    }
   },
   "outputs": [
    {
     "name": "stdout",
     "output_type": "stream",
     "text": [
      "retrieved results from 'BS_SSR_Geo.db'\n",
      "retrieved results from 'BS_SSR_Geo_2.db'\n",
      "retrieved results from 'Geo_SSR_Boot_emvp.db'\n",
      "retrieved results from 'mean_mvp_boot_ssr_emvp.db'\n",
      "retrieved results from 'SSR_BOOT_MVP_Mean.db'\n"
     ]
    },
    {
     "data": {
      "text/plain": "          Method AggregateMethod  \\\n0   BOOT_SSR_MVP      geo_median   \n1   BOOT_SSR_MVP      geo_median   \n2   BOOT_SSR_MVP      geo_median   \n3   BOOT_SSR_MVP      geo_median   \n4   BOOT_SSR_MVP      geo_median   \n..           ...             ...   \n45  SSR_BOOT_MVP     sample_mean   \n46  SSR_BOOT_MVP     sample_mean   \n47  SSR_BOOT_MVP     sample_mean   \n48  SSR_BOOT_MVP     sample_mean   \n49  SSR_BOOT_MVP     sample_mean   \n\n                                                Label    Return  SharpeRatio  \\\n0   2019-01-23_['HRL', 'CSCO', 'PAYX', 'CNP', 'DGX... -0.035395     0.064530   \n1   2018-02-17_['MRO', 'AXON', 'LH', 'MMC', 'CRM',...  0.308217     1.776944   \n2   2017-12-08_['SNA', 'LOW', 'AMZN', 'C', 'TFX', ...  0.139518     0.841938   \n3   2012-01-30_['COF', 'ALB', 'HIG', 'SYY', 'IFF',...  0.312353     1.355589   \n4   2019-11-14_['CPT', 'HRL', 'GD', 'CRM', 'GIS', ...  0.122702     0.697152   \n..                                                ...       ...          ...   \n45  2013-04-05_['KDP', 'V', 'BSX', 'JCI', 'KO', 'C...  0.271946     1.371048   \n46  2014-01-26_['L', 'BBY', 'BKR', 'AMT', 'IBM', '... -0.133800    -0.667940   \n47  2016-02-20_['CSCO', 'SBUX', 'MU', 'CRM', 'EOG'...  0.280605     1.629891   \n48  2020-09-30_['MET', 'ITW', 'ADP', 'MDT', 'VRSN'... -0.133051    -0.428121   \n49  2020-12-24_['RSG', 'UPS', 'TECH', 'DVN', 'BBY'... -0.089663    -0.229273   \n\n    Volatility  TurnoverRate  MaximumDrawdown  \n0     0.338384      0.344300         0.363882  \n1     0.158973      0.337399         0.063346  \n2     0.173668      0.376247         0.141987  \n3     0.218255      0.281093         0.125890  \n4     0.193672      0.340691         0.125450  \n..         ...           ...              ...  \n45    0.190152      0.305514         0.165578  \n46    0.188335      0.309449         0.213870  \n47    0.160361      0.321592         0.115659  \n48    0.256199      0.328673         0.282242  \n49    0.260730      0.327865         0.250077  \n\n[450 rows x 8 columns]",
      "text/html": "<div>\n<style scoped>\n    .dataframe tbody tr th:only-of-type {\n        vertical-align: middle;\n    }\n\n    .dataframe tbody tr th {\n        vertical-align: top;\n    }\n\n    .dataframe thead th {\n        text-align: right;\n    }\n</style>\n<table border=\"1\" class=\"dataframe\">\n  <thead>\n    <tr style=\"text-align: right;\">\n      <th></th>\n      <th>Method</th>\n      <th>AggregateMethod</th>\n      <th>Label</th>\n      <th>Return</th>\n      <th>SharpeRatio</th>\n      <th>Volatility</th>\n      <th>TurnoverRate</th>\n      <th>MaximumDrawdown</th>\n    </tr>\n  </thead>\n  <tbody>\n    <tr>\n      <th>0</th>\n      <td>BOOT_SSR_MVP</td>\n      <td>geo_median</td>\n      <td>2019-01-23_['HRL', 'CSCO', 'PAYX', 'CNP', 'DGX...</td>\n      <td>-0.035395</td>\n      <td>0.064530</td>\n      <td>0.338384</td>\n      <td>0.344300</td>\n      <td>0.363882</td>\n    </tr>\n    <tr>\n      <th>1</th>\n      <td>BOOT_SSR_MVP</td>\n      <td>geo_median</td>\n      <td>2018-02-17_['MRO', 'AXON', 'LH', 'MMC', 'CRM',...</td>\n      <td>0.308217</td>\n      <td>1.776944</td>\n      <td>0.158973</td>\n      <td>0.337399</td>\n      <td>0.063346</td>\n    </tr>\n    <tr>\n      <th>2</th>\n      <td>BOOT_SSR_MVP</td>\n      <td>geo_median</td>\n      <td>2017-12-08_['SNA', 'LOW', 'AMZN', 'C', 'TFX', ...</td>\n      <td>0.139518</td>\n      <td>0.841938</td>\n      <td>0.173668</td>\n      <td>0.376247</td>\n      <td>0.141987</td>\n    </tr>\n    <tr>\n      <th>3</th>\n      <td>BOOT_SSR_MVP</td>\n      <td>geo_median</td>\n      <td>2012-01-30_['COF', 'ALB', 'HIG', 'SYY', 'IFF',...</td>\n      <td>0.312353</td>\n      <td>1.355589</td>\n      <td>0.218255</td>\n      <td>0.281093</td>\n      <td>0.125890</td>\n    </tr>\n    <tr>\n      <th>4</th>\n      <td>BOOT_SSR_MVP</td>\n      <td>geo_median</td>\n      <td>2019-11-14_['CPT', 'HRL', 'GD', 'CRM', 'GIS', ...</td>\n      <td>0.122702</td>\n      <td>0.697152</td>\n      <td>0.193672</td>\n      <td>0.340691</td>\n      <td>0.125450</td>\n    </tr>\n    <tr>\n      <th>...</th>\n      <td>...</td>\n      <td>...</td>\n      <td>...</td>\n      <td>...</td>\n      <td>...</td>\n      <td>...</td>\n      <td>...</td>\n      <td>...</td>\n    </tr>\n    <tr>\n      <th>45</th>\n      <td>SSR_BOOT_MVP</td>\n      <td>sample_mean</td>\n      <td>2013-04-05_['KDP', 'V', 'BSX', 'JCI', 'KO', 'C...</td>\n      <td>0.271946</td>\n      <td>1.371048</td>\n      <td>0.190152</td>\n      <td>0.305514</td>\n      <td>0.165578</td>\n    </tr>\n    <tr>\n      <th>46</th>\n      <td>SSR_BOOT_MVP</td>\n      <td>sample_mean</td>\n      <td>2014-01-26_['L', 'BBY', 'BKR', 'AMT', 'IBM', '...</td>\n      <td>-0.133800</td>\n      <td>-0.667940</td>\n      <td>0.188335</td>\n      <td>0.309449</td>\n      <td>0.213870</td>\n    </tr>\n    <tr>\n      <th>47</th>\n      <td>SSR_BOOT_MVP</td>\n      <td>sample_mean</td>\n      <td>2016-02-20_['CSCO', 'SBUX', 'MU', 'CRM', 'EOG'...</td>\n      <td>0.280605</td>\n      <td>1.629891</td>\n      <td>0.160361</td>\n      <td>0.321592</td>\n      <td>0.115659</td>\n    </tr>\n    <tr>\n      <th>48</th>\n      <td>SSR_BOOT_MVP</td>\n      <td>sample_mean</td>\n      <td>2020-09-30_['MET', 'ITW', 'ADP', 'MDT', 'VRSN'...</td>\n      <td>-0.133051</td>\n      <td>-0.428121</td>\n      <td>0.256199</td>\n      <td>0.328673</td>\n      <td>0.282242</td>\n    </tr>\n    <tr>\n      <th>49</th>\n      <td>SSR_BOOT_MVP</td>\n      <td>sample_mean</td>\n      <td>2020-12-24_['RSG', 'UPS', 'TECH', 'DVN', 'BBY'...</td>\n      <td>-0.089663</td>\n      <td>-0.229273</td>\n      <td>0.260730</td>\n      <td>0.327865</td>\n      <td>0.250077</td>\n    </tr>\n  </tbody>\n</table>\n<p>450 rows × 8 columns</p>\n</div>"
     },
     "execution_count": 2,
     "metadata": {},
     "output_type": "execute_result"
    }
   ],
   "source": [
    "'''\n",
    "Read data from database\n",
    "'''\n",
    "path = r'../BacktestResults'\n",
    "directory=os.fsencode(path)\n",
    "\n",
    "backtest_results=[]\n",
    "\n",
    "query='SELECT * FROM Details'\n",
    "\n",
    "for file in os.listdir(directory):\n",
    "    filename=os.fsdecode(file)\n",
    "    if filename.endswith(\".db\"):\n",
    "        db_file=path+\"\\\\\"+filename\n",
    "        conn=db.connect(db_file)\n",
    "        result=pd.read_sql(query, conn)\n",
    "        conn.close()\n",
    "        backtest_results.append(result)\n",
    "        print(f'retrieved results from \\'{filename}\\'')\n",
    "        \n",
    "all_results=pd.concat(backtest_results, axis=0)\n",
    "\n",
    "all_results['Label']=all_results['TrainStart']+'_'+all_results['StocksLabel'].apply(lambda x: ''.join(x))\n",
    "all_results=all_results[~((all_results['Method']=='MVP') & (all_results['AggregateMethod']=='geo_median'))]\n",
    "all_results['Gamma2']=all_results['Gamma2'].fillna(0.001)\n",
    "all_results.loc[all_results['Method']=='MVP', 'AggregateMethod']='NA'\n",
    "all_results['AggregateMethod']=all_results['AggregateMethod'].fillna('sample_mean')\n",
    "all_results=all_results[all_results['Gamma2']==0.001]\n",
    "all_results=all_results[all_results['N_Day_Rebalance']==1]\n",
    "\n",
    "\n",
    "all_results['MaximumDrawdown']=np.abs(all_results['MaximumDrawdown'])\n",
    "\n",
    "all_results=all_results[['Method', 'AggregateMethod', 'Label' ,'Return', 'SharpeRatio', 'Volatility', 'TurnoverRate', 'MaximumDrawdown']].copy()\n",
    "\n",
    "\n",
    "\n",
    "all_results['Method']=all_results['Method'].str.replace('EMVP', 'BOOT_SSR_MVP')\n",
    "\n",
    "all_results"
   ]
  },
  {
   "cell_type": "code",
   "execution_count": 5,
   "id": "16a7699c",
   "metadata": {
    "ExecuteTime": {
     "end_time": "2024-04-29T22:19:20.143474900Z",
     "start_time": "2024-04-29T22:19:20.127567700Z"
    }
   },
   "outputs": [
    {
     "data": {
      "text/plain": "(50,)"
     },
     "execution_count": 5,
     "metadata": {},
     "output_type": "execute_result"
    }
   ],
   "source": [
    "all_results['Label'].unique().shape"
   ]
  },
  {
   "cell_type": "code",
   "execution_count": 6,
   "id": "1cd2ec0b",
   "metadata": {
    "ExecuteTime": {
     "end_time": "2024-04-29T22:19:21.365597400Z",
     "start_time": "2024-04-29T22:19:21.331670600Z"
    }
   },
   "outputs": [
    {
     "name": "stdout",
     "output_type": "stream",
     "text": [
      "BOOT_SSR_MVP shape: (100, 8)\n",
      "SSR_BOOT_MVP shape: (100, 8)\n",
      "Boot_mvp shape: (100, 8)\n",
      "SSR_mvp shape: (100, 8)\n",
      "MVP shape: (50, 8)\n"
     ]
    }
   ],
   "source": [
    "for method in all_results['Method'].unique():\n",
    "    shape=all_results[all_results['Method']==method].shape\n",
    "    \n",
    "    print(f'{method} shape: {shape}')"
   ]
  },
  {
   "cell_type": "code",
   "execution_count": 7,
   "id": "e293922c",
   "metadata": {
    "ExecuteTime": {
     "end_time": "2024-04-29T22:19:24.893977600Z",
     "start_time": "2024-04-29T22:19:24.850917900Z"
    }
   },
   "outputs": [
    {
     "data": {
      "text/plain": "          Method AggregateMethod  \\\n0   BOOT_SSR_MVP      geo_median   \n1   BOOT_SSR_MVP      geo_median   \n2   BOOT_SSR_MVP      geo_median   \n3   BOOT_SSR_MVP      geo_median   \n4   BOOT_SSR_MVP      geo_median   \n..           ...             ...   \n45           MVP              NA   \n46           MVP              NA   \n47           MVP              NA   \n48           MVP              NA   \n49           MVP              NA   \n\n                                                Label    Return  SharpeRatio  \\\n0   2019-01-23_['HRL', 'CSCO', 'PAYX', 'CNP', 'DGX... -0.035395     0.064530   \n1   2018-02-17_['MRO', 'AXON', 'LH', 'MMC', 'CRM',...  0.308217     1.776944   \n2   2017-12-08_['SNA', 'LOW', 'AMZN', 'C', 'TFX', ...  0.139518     0.841938   \n3   2012-01-30_['COF', 'ALB', 'HIG', 'SYY', 'IFF',...  0.312353     1.355589   \n4   2019-11-14_['CPT', 'HRL', 'GD', 'CRM', 'GIS', ...  0.122702     0.697152   \n..                                                ...       ...          ...   \n45  2013-04-05_['KDP', 'V', 'BSX', 'JCI', 'KO', 'C...  0.559687     1.246041   \n46  2014-01-26_['L', 'BBY', 'BKR', 'AMT', 'IBM', '... -0.395570    -0.972726   \n47  2016-02-20_['CSCO', 'SBUX', 'MU', 'CRM', 'EOG'...  0.475261     1.228325   \n48  2020-09-30_['MET', 'ITW', 'ADP', 'MDT', 'VRSN'... -0.165965    -0.142068   \n49  2020-12-24_['RSG', 'UPS', 'TECH', 'DVN', 'BBY'...  0.355764     0.843222   \n\n    Volatility  TurnoverRate  MaximumDrawdown  \n0     0.338384      0.344300         0.363882  \n1     0.158973      0.337399         0.063346  \n2     0.173668      0.376247         0.141987  \n3     0.218255      0.281093         0.125890  \n4     0.193672      0.340691         0.125450  \n..         ...           ...              ...  \n45    0.435931      0.224899         0.324850  \n46    0.424838      0.104659         0.483180  \n47    0.375881      0.104001         0.317253  \n48    0.475265      0.247018         0.350709  \n49    0.528766      0.048987         0.344898  \n\n[250 rows x 8 columns]",
      "text/html": "<div>\n<style scoped>\n    .dataframe tbody tr th:only-of-type {\n        vertical-align: middle;\n    }\n\n    .dataframe tbody tr th {\n        vertical-align: top;\n    }\n\n    .dataframe thead th {\n        text-align: right;\n    }\n</style>\n<table border=\"1\" class=\"dataframe\">\n  <thead>\n    <tr style=\"text-align: right;\">\n      <th></th>\n      <th>Method</th>\n      <th>AggregateMethod</th>\n      <th>Label</th>\n      <th>Return</th>\n      <th>SharpeRatio</th>\n      <th>Volatility</th>\n      <th>TurnoverRate</th>\n      <th>MaximumDrawdown</th>\n    </tr>\n  </thead>\n  <tbody>\n    <tr>\n      <th>0</th>\n      <td>BOOT_SSR_MVP</td>\n      <td>geo_median</td>\n      <td>2019-01-23_['HRL', 'CSCO', 'PAYX', 'CNP', 'DGX...</td>\n      <td>-0.035395</td>\n      <td>0.064530</td>\n      <td>0.338384</td>\n      <td>0.344300</td>\n      <td>0.363882</td>\n    </tr>\n    <tr>\n      <th>1</th>\n      <td>BOOT_SSR_MVP</td>\n      <td>geo_median</td>\n      <td>2018-02-17_['MRO', 'AXON', 'LH', 'MMC', 'CRM',...</td>\n      <td>0.308217</td>\n      <td>1.776944</td>\n      <td>0.158973</td>\n      <td>0.337399</td>\n      <td>0.063346</td>\n    </tr>\n    <tr>\n      <th>2</th>\n      <td>BOOT_SSR_MVP</td>\n      <td>geo_median</td>\n      <td>2017-12-08_['SNA', 'LOW', 'AMZN', 'C', 'TFX', ...</td>\n      <td>0.139518</td>\n      <td>0.841938</td>\n      <td>0.173668</td>\n      <td>0.376247</td>\n      <td>0.141987</td>\n    </tr>\n    <tr>\n      <th>3</th>\n      <td>BOOT_SSR_MVP</td>\n      <td>geo_median</td>\n      <td>2012-01-30_['COF', 'ALB', 'HIG', 'SYY', 'IFF',...</td>\n      <td>0.312353</td>\n      <td>1.355589</td>\n      <td>0.218255</td>\n      <td>0.281093</td>\n      <td>0.125890</td>\n    </tr>\n    <tr>\n      <th>4</th>\n      <td>BOOT_SSR_MVP</td>\n      <td>geo_median</td>\n      <td>2019-11-14_['CPT', 'HRL', 'GD', 'CRM', 'GIS', ...</td>\n      <td>0.122702</td>\n      <td>0.697152</td>\n      <td>0.193672</td>\n      <td>0.340691</td>\n      <td>0.125450</td>\n    </tr>\n    <tr>\n      <th>...</th>\n      <td>...</td>\n      <td>...</td>\n      <td>...</td>\n      <td>...</td>\n      <td>...</td>\n      <td>...</td>\n      <td>...</td>\n      <td>...</td>\n    </tr>\n    <tr>\n      <th>45</th>\n      <td>MVP</td>\n      <td>NA</td>\n      <td>2013-04-05_['KDP', 'V', 'BSX', 'JCI', 'KO', 'C...</td>\n      <td>0.559687</td>\n      <td>1.246041</td>\n      <td>0.435931</td>\n      <td>0.224899</td>\n      <td>0.324850</td>\n    </tr>\n    <tr>\n      <th>46</th>\n      <td>MVP</td>\n      <td>NA</td>\n      <td>2014-01-26_['L', 'BBY', 'BKR', 'AMT', 'IBM', '...</td>\n      <td>-0.395570</td>\n      <td>-0.972726</td>\n      <td>0.424838</td>\n      <td>0.104659</td>\n      <td>0.483180</td>\n    </tr>\n    <tr>\n      <th>47</th>\n      <td>MVP</td>\n      <td>NA</td>\n      <td>2016-02-20_['CSCO', 'SBUX', 'MU', 'CRM', 'EOG'...</td>\n      <td>0.475261</td>\n      <td>1.228325</td>\n      <td>0.375881</td>\n      <td>0.104001</td>\n      <td>0.317253</td>\n    </tr>\n    <tr>\n      <th>48</th>\n      <td>MVP</td>\n      <td>NA</td>\n      <td>2020-09-30_['MET', 'ITW', 'ADP', 'MDT', 'VRSN'...</td>\n      <td>-0.165965</td>\n      <td>-0.142068</td>\n      <td>0.475265</td>\n      <td>0.247018</td>\n      <td>0.350709</td>\n    </tr>\n    <tr>\n      <th>49</th>\n      <td>MVP</td>\n      <td>NA</td>\n      <td>2020-12-24_['RSG', 'UPS', 'TECH', 'DVN', 'BBY'...</td>\n      <td>0.355764</td>\n      <td>0.843222</td>\n      <td>0.528766</td>\n      <td>0.048987</td>\n      <td>0.344898</td>\n    </tr>\n  </tbody>\n</table>\n<p>250 rows × 8 columns</p>\n</div>"
     },
     "execution_count": 7,
     "metadata": {},
     "output_type": "execute_result"
    }
   ],
   "source": [
    "geo_median_results=all_results[all_results['AggregateMethod'].isin(['geo_median', 'NA'])]\n",
    "geo_median_results"
   ]
  },
  {
   "cell_type": "code",
   "execution_count": 8,
   "id": "c3117ca7",
   "metadata": {
    "ExecuteTime": {
     "end_time": "2024-04-29T22:19:26.441748800Z",
     "start_time": "2024-04-29T22:19:26.370942400Z"
    }
   },
   "outputs": [
    {
     "data": {
      "text/plain": "          Method AggregateMethod  \\\n0            MVP              NA   \n1            MVP              NA   \n2            MVP              NA   \n3            MVP              NA   \n4            MVP              NA   \n..           ...             ...   \n45  SSR_BOOT_MVP     sample_mean   \n46  SSR_BOOT_MVP     sample_mean   \n47  SSR_BOOT_MVP     sample_mean   \n48  SSR_BOOT_MVP     sample_mean   \n49  SSR_BOOT_MVP     sample_mean   \n\n                                                Label    Return  SharpeRatio  \\\n0   2019-01-23_['HRL', 'CSCO', 'PAYX', 'CNP', 'DGX...  0.031874     0.306953   \n1   2018-02-17_['MRO', 'AXON', 'LH', 'MMC', 'CRM',...  0.517273     1.248201   \n2   2017-12-08_['SNA', 'LOW', 'AMZN', 'C', 'TFX', ... -0.026181     0.080016   \n3   2012-01-30_['COF', 'ALB', 'HIG', 'SYY', 'IFF',...  0.023054     0.255468   \n4   2019-11-14_['CPT', 'HRL', 'GD', 'CRM', 'GIS', ... -0.051711     0.005817   \n..                                                ...       ...          ...   \n45  2013-04-05_['KDP', 'V', 'BSX', 'JCI', 'KO', 'C...  0.271946     1.371048   \n46  2014-01-26_['L', 'BBY', 'BKR', 'AMT', 'IBM', '... -0.133800    -0.667940   \n47  2016-02-20_['CSCO', 'SBUX', 'MU', 'CRM', 'EOG'...  0.280605     1.629891   \n48  2020-09-30_['MET', 'ITW', 'ADP', 'MDT', 'VRSN'... -0.133051    -0.428121   \n49  2020-12-24_['RSG', 'UPS', 'TECH', 'DVN', 'BBY'... -0.089663    -0.229273   \n\n    Volatility  TurnoverRate  MaximumDrawdown  \n0     0.479983      0.209749         0.355935  \n1     0.395948      0.088122         0.200648  \n2     0.324220      0.231183         0.290620  \n3     0.388477      0.182496         0.286159  \n4     0.331533      0.155547         0.238505  \n..         ...           ...              ...  \n45    0.190152      0.305514         0.165578  \n46    0.188335      0.309449         0.213870  \n47    0.160361      0.321592         0.115659  \n48    0.256199      0.328673         0.282242  \n49    0.260730      0.327865         0.250077  \n\n[250 rows x 8 columns]",
      "text/html": "<div>\n<style scoped>\n    .dataframe tbody tr th:only-of-type {\n        vertical-align: middle;\n    }\n\n    .dataframe tbody tr th {\n        vertical-align: top;\n    }\n\n    .dataframe thead th {\n        text-align: right;\n    }\n</style>\n<table border=\"1\" class=\"dataframe\">\n  <thead>\n    <tr style=\"text-align: right;\">\n      <th></th>\n      <th>Method</th>\n      <th>AggregateMethod</th>\n      <th>Label</th>\n      <th>Return</th>\n      <th>SharpeRatio</th>\n      <th>Volatility</th>\n      <th>TurnoverRate</th>\n      <th>MaximumDrawdown</th>\n    </tr>\n  </thead>\n  <tbody>\n    <tr>\n      <th>0</th>\n      <td>MVP</td>\n      <td>NA</td>\n      <td>2019-01-23_['HRL', 'CSCO', 'PAYX', 'CNP', 'DGX...</td>\n      <td>0.031874</td>\n      <td>0.306953</td>\n      <td>0.479983</td>\n      <td>0.209749</td>\n      <td>0.355935</td>\n    </tr>\n    <tr>\n      <th>1</th>\n      <td>MVP</td>\n      <td>NA</td>\n      <td>2018-02-17_['MRO', 'AXON', 'LH', 'MMC', 'CRM',...</td>\n      <td>0.517273</td>\n      <td>1.248201</td>\n      <td>0.395948</td>\n      <td>0.088122</td>\n      <td>0.200648</td>\n    </tr>\n    <tr>\n      <th>2</th>\n      <td>MVP</td>\n      <td>NA</td>\n      <td>2017-12-08_['SNA', 'LOW', 'AMZN', 'C', 'TFX', ...</td>\n      <td>-0.026181</td>\n      <td>0.080016</td>\n      <td>0.324220</td>\n      <td>0.231183</td>\n      <td>0.290620</td>\n    </tr>\n    <tr>\n      <th>3</th>\n      <td>MVP</td>\n      <td>NA</td>\n      <td>2012-01-30_['COF', 'ALB', 'HIG', 'SYY', 'IFF',...</td>\n      <td>0.023054</td>\n      <td>0.255468</td>\n      <td>0.388477</td>\n      <td>0.182496</td>\n      <td>0.286159</td>\n    </tr>\n    <tr>\n      <th>4</th>\n      <td>MVP</td>\n      <td>NA</td>\n      <td>2019-11-14_['CPT', 'HRL', 'GD', 'CRM', 'GIS', ...</td>\n      <td>-0.051711</td>\n      <td>0.005817</td>\n      <td>0.331533</td>\n      <td>0.155547</td>\n      <td>0.238505</td>\n    </tr>\n    <tr>\n      <th>...</th>\n      <td>...</td>\n      <td>...</td>\n      <td>...</td>\n      <td>...</td>\n      <td>...</td>\n      <td>...</td>\n      <td>...</td>\n      <td>...</td>\n    </tr>\n    <tr>\n      <th>45</th>\n      <td>SSR_BOOT_MVP</td>\n      <td>sample_mean</td>\n      <td>2013-04-05_['KDP', 'V', 'BSX', 'JCI', 'KO', 'C...</td>\n      <td>0.271946</td>\n      <td>1.371048</td>\n      <td>0.190152</td>\n      <td>0.305514</td>\n      <td>0.165578</td>\n    </tr>\n    <tr>\n      <th>46</th>\n      <td>SSR_BOOT_MVP</td>\n      <td>sample_mean</td>\n      <td>2014-01-26_['L', 'BBY', 'BKR', 'AMT', 'IBM', '...</td>\n      <td>-0.133800</td>\n      <td>-0.667940</td>\n      <td>0.188335</td>\n      <td>0.309449</td>\n      <td>0.213870</td>\n    </tr>\n    <tr>\n      <th>47</th>\n      <td>SSR_BOOT_MVP</td>\n      <td>sample_mean</td>\n      <td>2016-02-20_['CSCO', 'SBUX', 'MU', 'CRM', 'EOG'...</td>\n      <td>0.280605</td>\n      <td>1.629891</td>\n      <td>0.160361</td>\n      <td>0.321592</td>\n      <td>0.115659</td>\n    </tr>\n    <tr>\n      <th>48</th>\n      <td>SSR_BOOT_MVP</td>\n      <td>sample_mean</td>\n      <td>2020-09-30_['MET', 'ITW', 'ADP', 'MDT', 'VRSN'...</td>\n      <td>-0.133051</td>\n      <td>-0.428121</td>\n      <td>0.256199</td>\n      <td>0.328673</td>\n      <td>0.282242</td>\n    </tr>\n    <tr>\n      <th>49</th>\n      <td>SSR_BOOT_MVP</td>\n      <td>sample_mean</td>\n      <td>2020-12-24_['RSG', 'UPS', 'TECH', 'DVN', 'BBY'...</td>\n      <td>-0.089663</td>\n      <td>-0.229273</td>\n      <td>0.260730</td>\n      <td>0.327865</td>\n      <td>0.250077</td>\n    </tr>\n  </tbody>\n</table>\n<p>250 rows × 8 columns</p>\n</div>"
     },
     "execution_count": 8,
     "metadata": {},
     "output_type": "execute_result"
    }
   ],
   "source": [
    "simple_mean_results=all_results[all_results['AggregateMethod'].isin(['sample_mean', 'NA'])]\n",
    "simple_mean_results"
   ]
  },
  {
   "cell_type": "code",
   "execution_count": 10,
   "id": "92927359",
   "metadata": {
    "ExecuteTime": {
     "end_time": "2024-04-29T22:19:31.036341Z",
     "start_time": "2024-04-29T22:19:30.996197100Z"
    }
   },
   "outputs": [
    {
     "data": {
      "text/plain": "          Method AggregateMethod  \\\n0            MVP              NA   \n1            MVP              NA   \n2            MVP              NA   \n3            MVP              NA   \n4            MVP              NA   \n..           ...             ...   \n45  SSR_BOOT_MVP     sample_mean   \n46  SSR_BOOT_MVP     sample_mean   \n47  SSR_BOOT_MVP     sample_mean   \n48  SSR_BOOT_MVP     sample_mean   \n49  SSR_BOOT_MVP     sample_mean   \n\n                                                Label    Return  SharpeRatio  \\\n0   2019-01-23_['HRL', 'CSCO', 'PAYX', 'CNP', 'DGX...  0.031874     0.306953   \n1   2018-02-17_['MRO', 'AXON', 'LH', 'MMC', 'CRM',...  0.517273     1.248201   \n2   2017-12-08_['SNA', 'LOW', 'AMZN', 'C', 'TFX', ... -0.026181     0.080016   \n3   2012-01-30_['COF', 'ALB', 'HIG', 'SYY', 'IFF',...  0.023054     0.255468   \n4   2019-11-14_['CPT', 'HRL', 'GD', 'CRM', 'GIS', ... -0.051711     0.005817   \n..                                                ...       ...          ...   \n45  2013-04-05_['KDP', 'V', 'BSX', 'JCI', 'KO', 'C...  0.271946     1.371048   \n46  2014-01-26_['L', 'BBY', 'BKR', 'AMT', 'IBM', '... -0.133800    -0.667940   \n47  2016-02-20_['CSCO', 'SBUX', 'MU', 'CRM', 'EOG'...  0.280605     1.629891   \n48  2020-09-30_['MET', 'ITW', 'ADP', 'MDT', 'VRSN'... -0.133051    -0.428121   \n49  2020-12-24_['RSG', 'UPS', 'TECH', 'DVN', 'BBY'... -0.089663    -0.229273   \n\n    Volatility  TurnoverRate  MaximumDrawdown  \n0     0.479983      0.209749         0.355935  \n1     0.395948      0.088122         0.200648  \n2     0.324220      0.231183         0.290620  \n3     0.388477      0.182496         0.286159  \n4     0.331533      0.155547         0.238505  \n..         ...           ...              ...  \n45    0.190152      0.305514         0.165578  \n46    0.188335      0.309449         0.213870  \n47    0.160361      0.321592         0.115659  \n48    0.256199      0.328673         0.282242  \n49    0.260730      0.327865         0.250077  \n\n[250 rows x 8 columns]",
      "text/html": "<div>\n<style scoped>\n    .dataframe tbody tr th:only-of-type {\n        vertical-align: middle;\n    }\n\n    .dataframe tbody tr th {\n        vertical-align: top;\n    }\n\n    .dataframe thead th {\n        text-align: right;\n    }\n</style>\n<table border=\"1\" class=\"dataframe\">\n  <thead>\n    <tr style=\"text-align: right;\">\n      <th></th>\n      <th>Method</th>\n      <th>AggregateMethod</th>\n      <th>Label</th>\n      <th>Return</th>\n      <th>SharpeRatio</th>\n      <th>Volatility</th>\n      <th>TurnoverRate</th>\n      <th>MaximumDrawdown</th>\n    </tr>\n  </thead>\n  <tbody>\n    <tr>\n      <th>0</th>\n      <td>MVP</td>\n      <td>NA</td>\n      <td>2019-01-23_['HRL', 'CSCO', 'PAYX', 'CNP', 'DGX...</td>\n      <td>0.031874</td>\n      <td>0.306953</td>\n      <td>0.479983</td>\n      <td>0.209749</td>\n      <td>0.355935</td>\n    </tr>\n    <tr>\n      <th>1</th>\n      <td>MVP</td>\n      <td>NA</td>\n      <td>2018-02-17_['MRO', 'AXON', 'LH', 'MMC', 'CRM',...</td>\n      <td>0.517273</td>\n      <td>1.248201</td>\n      <td>0.395948</td>\n      <td>0.088122</td>\n      <td>0.200648</td>\n    </tr>\n    <tr>\n      <th>2</th>\n      <td>MVP</td>\n      <td>NA</td>\n      <td>2017-12-08_['SNA', 'LOW', 'AMZN', 'C', 'TFX', ...</td>\n      <td>-0.026181</td>\n      <td>0.080016</td>\n      <td>0.324220</td>\n      <td>0.231183</td>\n      <td>0.290620</td>\n    </tr>\n    <tr>\n      <th>3</th>\n      <td>MVP</td>\n      <td>NA</td>\n      <td>2012-01-30_['COF', 'ALB', 'HIG', 'SYY', 'IFF',...</td>\n      <td>0.023054</td>\n      <td>0.255468</td>\n      <td>0.388477</td>\n      <td>0.182496</td>\n      <td>0.286159</td>\n    </tr>\n    <tr>\n      <th>4</th>\n      <td>MVP</td>\n      <td>NA</td>\n      <td>2019-11-14_['CPT', 'HRL', 'GD', 'CRM', 'GIS', ...</td>\n      <td>-0.051711</td>\n      <td>0.005817</td>\n      <td>0.331533</td>\n      <td>0.155547</td>\n      <td>0.238505</td>\n    </tr>\n    <tr>\n      <th>...</th>\n      <td>...</td>\n      <td>...</td>\n      <td>...</td>\n      <td>...</td>\n      <td>...</td>\n      <td>...</td>\n      <td>...</td>\n      <td>...</td>\n    </tr>\n    <tr>\n      <th>45</th>\n      <td>SSR_BOOT_MVP</td>\n      <td>sample_mean</td>\n      <td>2013-04-05_['KDP', 'V', 'BSX', 'JCI', 'KO', 'C...</td>\n      <td>0.271946</td>\n      <td>1.371048</td>\n      <td>0.190152</td>\n      <td>0.305514</td>\n      <td>0.165578</td>\n    </tr>\n    <tr>\n      <th>46</th>\n      <td>SSR_BOOT_MVP</td>\n      <td>sample_mean</td>\n      <td>2014-01-26_['L', 'BBY', 'BKR', 'AMT', 'IBM', '...</td>\n      <td>-0.133800</td>\n      <td>-0.667940</td>\n      <td>0.188335</td>\n      <td>0.309449</td>\n      <td>0.213870</td>\n    </tr>\n    <tr>\n      <th>47</th>\n      <td>SSR_BOOT_MVP</td>\n      <td>sample_mean</td>\n      <td>2016-02-20_['CSCO', 'SBUX', 'MU', 'CRM', 'EOG'...</td>\n      <td>0.280605</td>\n      <td>1.629891</td>\n      <td>0.160361</td>\n      <td>0.321592</td>\n      <td>0.115659</td>\n    </tr>\n    <tr>\n      <th>48</th>\n      <td>SSR_BOOT_MVP</td>\n      <td>sample_mean</td>\n      <td>2020-09-30_['MET', 'ITW', 'ADP', 'MDT', 'VRSN'...</td>\n      <td>-0.133051</td>\n      <td>-0.428121</td>\n      <td>0.256199</td>\n      <td>0.328673</td>\n      <td>0.282242</td>\n    </tr>\n    <tr>\n      <th>49</th>\n      <td>SSR_BOOT_MVP</td>\n      <td>sample_mean</td>\n      <td>2020-12-24_['RSG', 'UPS', 'TECH', 'DVN', 'BBY'...</td>\n      <td>-0.089663</td>\n      <td>-0.229273</td>\n      <td>0.260730</td>\n      <td>0.327865</td>\n      <td>0.250077</td>\n    </tr>\n  </tbody>\n</table>\n<p>250 rows × 8 columns</p>\n</div>"
     },
     "execution_count": 10,
     "metadata": {},
     "output_type": "execute_result"
    }
   ],
   "source": [
    "simple_mean_results"
   ]
  },
  {
   "cell_type": "code",
   "execution_count": 8,
   "id": "7b934bb8",
   "metadata": {},
   "outputs": [],
   "source": [
    "def hypothesis_testing(df, metric, base='MVP', sequence=['MVP', 'SSR_mvp', 'Boot_mvp', 'SSR_BOOT_MVP', 'BOOT_SSR_MVP']):\n",
    "    metric_df=df[['Method', 'Label', metric]].set_index([ 'Label','Method']).unstack()\n",
    "    metric_df.columns=[col[1] for col in metric_df.columns]\n",
    "    metric_df=metric_df[sequence]\n",
    "    compare_baseline=metric_df.copy()\n",
    "\n",
    "    for strategy in metric_df.columns:\n",
    "        compare_baseline[strategy]=compare_baseline[strategy]-metric_df[base]\n",
    "            \n",
    "    if metric in ['Return', 'SharpeRatio']:\n",
    "        ttest=compare_baseline.apply(lambda x: ttest_1samp(x, popmean=0, alternative='greater'), axis=0)\n",
    "        \n",
    "    else:\n",
    "        ttest=compare_baseline.apply(lambda x: ttest_1samp(x, popmean=0, alternative='less'), axis=0)\n",
    "    \n",
    "    ttest.index=['t-statistic', 'p-value']\n",
    "    return ttest\n",
    "\n",
    "\n",
    "def hypothesis_testing_other_strat_as_base(df, metric, target='MVP', sequence=['MVP', 'SSR_mvp', 'Boot_mvp', 'SSR_BOOT_MVP', 'BOOT_SSR_MVP']):\n",
    "    metric_df=df[['Method', 'Label', metric]].set_index([ 'Label','Method']).unstack()\n",
    "    metric_df.columns=[col[1] for col in metric_df.columns]\n",
    "    metric_df=metric_df[sequence]\n",
    "    compare_baseline=metric_df.copy()\n",
    "\n",
    "    for strategy in metric_df.columns:\n",
    "        compare_baseline[strategy]=metric_df[target]-metric_df[strategy]\n",
    "            \n",
    "    if metric in ['Return', 'SharpeRatio']:\n",
    "        ttest=compare_baseline.apply(lambda x: ttest_1samp(x, popmean=0, alternative='greater'), axis=0)\n",
    "        \n",
    "    else:\n",
    "        ttest=compare_baseline.apply(lambda x: ttest_1samp(x, popmean=0, alternative='less'), axis=0)\n",
    "    \n",
    "    ttest.index=['t-statistic', 'p-value']\n",
    "    return ttest\n",
    "\n",
    "def hypothesis_testing_geo_vs_simple(simple_df, geo_df, metric,  sequence=['MVP', 'SSR_mvp', 'Boot_mvp', 'SSR_BOOT_MVP', 'BOOT_SSR_MVP']):\n",
    "    simple_metric_df=simple_df[['Method', 'Label', metric]].set_index([ 'Label','Method']).unstack()\n",
    "    simple_metric_df.columns=[col[1] for col in simple_metric_df.columns]\n",
    "    simple_metric_df=simple_metric_df[sequence]\n",
    "    \n",
    "    geo_metric_df=geo_df[['Method', 'Label', metric]].set_index([ 'Label','Method']).unstack()\n",
    "    geo_metric_df.columns=[col[1] for col in geo_metric_df.columns]\n",
    "    geo_metric_df=geo_metric_df[sequence]\n",
    "    \n",
    "    compare_baseline=geo_metric_df-simple_metric_df\n",
    "\n",
    "    #for strategy in metric_df.columns:\n",
    "    #    compare_baseline[strategy]=metric_df[target]-metric_df[strategy]\n",
    "            \n",
    "    if metric in ['Return', 'SharpeRatio']:\n",
    "        ttest=compare_baseline.apply(lambda x: ttest_1samp(x, popmean=0, alternative='greater'), axis=0)\n",
    "        \n",
    "    else:\n",
    "        ttest=compare_baseline.apply(lambda x: ttest_1samp(x, popmean=0, alternative='less'), axis=0)\n",
    "    \n",
    "    ttest.index=['t-statistic', 'p-value']\n",
    "    return ttest\n"
   ]
  },
  {
   "cell_type": "code",
   "execution_count": 9,
   "id": "c623be78",
   "metadata": {},
   "outputs": [],
   "source": [
    "def test_all_metrics(df, base='MVP', all_metrics=['Return', 'SharpeRatio', 'Volatility', 'TurnoverRate', 'MaximumDrawdown']):\n",
    "    t_statistics_list=[]\n",
    "    p_value_list=[]\n",
    "    \n",
    "    for metric in all_metrics:\n",
    "        ttest=hypothesis_testing(df, metric, base)\n",
    "        t_stat=ttest.loc[['t-statistic']]\n",
    "        t_stat.index=[metric]\n",
    "        t_statistics_list.append(t_stat)\n",
    "        \n",
    "        p_value=ttest.loc[['p-value']]\n",
    "        p_value.index=[metric]\n",
    "        p_value_list.append(p_value)\n",
    "        \n",
    "    all_t_stats=pd.concat(t_statistics_list, axis=0)\n",
    "    all_p_values=pd.concat(p_value_list, axis=0)\n",
    "    \n",
    "    return all_t_stats, all_p_values\n",
    "\n",
    "def test_all_metrics_other_strat_as_base(df, target='MVP', all_metrics=['Return', 'SharpeRatio', 'Volatility', 'TurnoverRate', 'MaximumDrawdown']):\n",
    "    t_statistics_list=[]\n",
    "    p_value_list=[]\n",
    "    \n",
    "    for metric in all_metrics:\n",
    "        ttest=hypothesis_testing_other_strat_as_base(df, metric, target)\n",
    "        t_stat=ttest.loc[['t-statistic']]\n",
    "        t_stat.index=[metric]\n",
    "        t_statistics_list.append(t_stat)\n",
    "        \n",
    "        p_value=ttest.loc[['p-value']]\n",
    "        p_value.index=[metric]\n",
    "        p_value_list.append(p_value)\n",
    "        \n",
    "    all_t_stats=pd.concat(t_statistics_list, axis=0)\n",
    "    all_p_values=pd.concat(p_value_list, axis=0)\n",
    "    \n",
    "    return all_t_stats, all_p_values\n",
    "\n",
    "def test_all_metrics_simple_vs_geo(simple_df=simple_mean_results, geo_df=geo_median_results, all_metrics=['Return', 'SharpeRatio', 'Volatility', 'TurnoverRate', 'MaximumDrawdown']):\n",
    "    t_statistics_list=[]\n",
    "    p_value_list=[]\n",
    "    \n",
    "    for metric in all_metrics:\n",
    "        ttest=hypothesis_testing_geo_vs_simple(simple_df, geo_df,metric)\n",
    "        t_stat=ttest.loc[['t-statistic']]\n",
    "        t_stat.index=[metric]\n",
    "        t_statistics_list.append(t_stat)\n",
    "        \n",
    "        p_value=ttest.loc[['p-value']]\n",
    "        p_value.index=[metric]\n",
    "        p_value_list.append(p_value)\n",
    "        \n",
    "    all_t_stats=pd.concat(t_statistics_list, axis=0)\n",
    "    all_p_values=pd.concat(p_value_list, axis=0)\n",
    "    \n",
    "    return all_t_stats, all_p_values"
   ]
  },
  {
   "cell_type": "code",
   "execution_count": null,
   "id": "c8c5e0b9",
   "metadata": {},
   "outputs": [],
   "source": []
  },
  {
   "cell_type": "code",
   "execution_count": 10,
   "id": "73ef741a",
   "metadata": {},
   "outputs": [],
   "source": [
    "simple_mean_t_stat, simple_mean_p_val=test_all_metrics(simple_mean_results)"
   ]
  },
  {
   "cell_type": "code",
   "execution_count": 11,
   "id": "4a153ec0",
   "metadata": {},
   "outputs": [
    {
     "data": {
      "text/html": [
       "<div>\n",
       "<style scoped>\n",
       "    .dataframe tbody tr th:only-of-type {\n",
       "        vertical-align: middle;\n",
       "    }\n",
       "\n",
       "    .dataframe tbody tr th {\n",
       "        vertical-align: top;\n",
       "    }\n",
       "\n",
       "    .dataframe thead th {\n",
       "        text-align: right;\n",
       "    }\n",
       "</style>\n",
       "<table border=\"1\" class=\"dataframe\">\n",
       "  <thead>\n",
       "    <tr style=\"text-align: right;\">\n",
       "      <th></th>\n",
       "      <th>MVP</th>\n",
       "      <th>SSR_mvp</th>\n",
       "      <th>Boot_mvp</th>\n",
       "      <th>SSR_BOOT_MVP</th>\n",
       "      <th>BOOT_SSR_MVP</th>\n",
       "    </tr>\n",
       "  </thead>\n",
       "  <tbody>\n",
       "    <tr>\n",
       "      <th>Return</th>\n",
       "      <td>NaN</td>\n",
       "      <td>4.603144e-02</td>\n",
       "      <td>2.919117e-03</td>\n",
       "      <td>4.514456e-02</td>\n",
       "      <td>3.912892e-02</td>\n",
       "    </tr>\n",
       "    <tr>\n",
       "      <th>SharpeRatio</th>\n",
       "      <td>NaN</td>\n",
       "      <td>1.261473e-04</td>\n",
       "      <td>3.350200e-05</td>\n",
       "      <td>1.006757e-05</td>\n",
       "      <td>1.224991e-05</td>\n",
       "    </tr>\n",
       "    <tr>\n",
       "      <th>Volatility</th>\n",
       "      <td>NaN</td>\n",
       "      <td>3.149383e-27</td>\n",
       "      <td>1.547903e-20</td>\n",
       "      <td>1.069472e-29</td>\n",
       "      <td>2.104913e-28</td>\n",
       "    </tr>\n",
       "    <tr>\n",
       "      <th>TurnoverRate</th>\n",
       "      <td>NaN</td>\n",
       "      <td>1.000000e+00</td>\n",
       "      <td>2.327711e-07</td>\n",
       "      <td>1.000000e+00</td>\n",
       "      <td>1.000000e+00</td>\n",
       "    </tr>\n",
       "    <tr>\n",
       "      <th>MaximumDrawdown</th>\n",
       "      <td>NaN</td>\n",
       "      <td>1.190332e-17</td>\n",
       "      <td>8.914212e-13</td>\n",
       "      <td>3.943057e-19</td>\n",
       "      <td>1.763292e-18</td>\n",
       "    </tr>\n",
       "  </tbody>\n",
       "</table>\n",
       "</div>"
      ],
      "text/plain": [
       "                 MVP       SSR_mvp      Boot_mvp  SSR_BOOT_MVP  BOOT_SSR_MVP\n",
       "Return           NaN  4.603144e-02  2.919117e-03  4.514456e-02  3.912892e-02\n",
       "SharpeRatio      NaN  1.261473e-04  3.350200e-05  1.006757e-05  1.224991e-05\n",
       "Volatility       NaN  3.149383e-27  1.547903e-20  1.069472e-29  2.104913e-28\n",
       "TurnoverRate     NaN  1.000000e+00  2.327711e-07  1.000000e+00  1.000000e+00\n",
       "MaximumDrawdown  NaN  1.190332e-17  8.914212e-13  3.943057e-19  1.763292e-18"
      ]
     },
     "execution_count": 11,
     "metadata": {},
     "output_type": "execute_result"
    }
   ],
   "source": [
    "simple_mean_p_val"
   ]
  },
  {
   "cell_type": "code",
   "execution_count": 12,
   "id": "073cdfcb",
   "metadata": {
    "scrolled": true
   },
   "outputs": [
    {
     "data": {
      "text/html": [
       "<div>\n",
       "<style scoped>\n",
       "    .dataframe tbody tr th:only-of-type {\n",
       "        vertical-align: middle;\n",
       "    }\n",
       "\n",
       "    .dataframe tbody tr th {\n",
       "        vertical-align: top;\n",
       "    }\n",
       "\n",
       "    .dataframe thead th {\n",
       "        text-align: right;\n",
       "    }\n",
       "</style>\n",
       "<table border=\"1\" class=\"dataframe\">\n",
       "  <thead>\n",
       "    <tr style=\"text-align: right;\">\n",
       "      <th></th>\n",
       "      <th>MVP</th>\n",
       "      <th>SSR_mvp</th>\n",
       "      <th>Boot_mvp</th>\n",
       "      <th>SSR_BOOT_MVP</th>\n",
       "      <th>BOOT_SSR_MVP</th>\n",
       "    </tr>\n",
       "  </thead>\n",
       "  <tbody>\n",
       "    <tr>\n",
       "      <th>Return</th>\n",
       "      <td>NaN</td>\n",
       "      <td>7.192340e-02</td>\n",
       "      <td>5.733275e-03</td>\n",
       "      <td>1.794103e-02</td>\n",
       "      <td>3.134142e-02</td>\n",
       "    </tr>\n",
       "    <tr>\n",
       "      <th>SharpeRatio</th>\n",
       "      <td>NaN</td>\n",
       "      <td>4.267650e-03</td>\n",
       "      <td>4.213596e-04</td>\n",
       "      <td>1.628958e-05</td>\n",
       "      <td>1.794325e-05</td>\n",
       "    </tr>\n",
       "    <tr>\n",
       "      <th>Volatility</th>\n",
       "      <td>NaN</td>\n",
       "      <td>3.069191e-26</td>\n",
       "      <td>3.033242e-16</td>\n",
       "      <td>1.166855e-29</td>\n",
       "      <td>3.128944e-30</td>\n",
       "    </tr>\n",
       "    <tr>\n",
       "      <th>TurnoverRate</th>\n",
       "      <td>NaN</td>\n",
       "      <td>1.000000e+00</td>\n",
       "      <td>4.725754e-10</td>\n",
       "      <td>1.000000e+00</td>\n",
       "      <td>1.000000e+00</td>\n",
       "    </tr>\n",
       "    <tr>\n",
       "      <th>MaximumDrawdown</th>\n",
       "      <td>NaN</td>\n",
       "      <td>3.955518e-15</td>\n",
       "      <td>8.210187e-11</td>\n",
       "      <td>5.070122e-18</td>\n",
       "      <td>3.090653e-19</td>\n",
       "    </tr>\n",
       "  </tbody>\n",
       "</table>\n",
       "</div>"
      ],
      "text/plain": [
       "                 MVP       SSR_mvp      Boot_mvp  SSR_BOOT_MVP  BOOT_SSR_MVP\n",
       "Return           NaN  7.192340e-02  5.733275e-03  1.794103e-02  3.134142e-02\n",
       "SharpeRatio      NaN  4.267650e-03  4.213596e-04  1.628958e-05  1.794325e-05\n",
       "Volatility       NaN  3.069191e-26  3.033242e-16  1.166855e-29  3.128944e-30\n",
       "TurnoverRate     NaN  1.000000e+00  4.725754e-10  1.000000e+00  1.000000e+00\n",
       "MaximumDrawdown  NaN  3.955518e-15  8.210187e-11  5.070122e-18  3.090653e-19"
      ]
     },
     "execution_count": 12,
     "metadata": {},
     "output_type": "execute_result"
    }
   ],
   "source": [
    "geo_median_t_stat, geo_median_p_val=test_all_metrics(geo_median_results)\n",
    "geo_median_p_val"
   ]
  },
  {
   "cell_type": "code",
   "execution_count": 13,
   "id": "79d640d2",
   "metadata": {},
   "outputs": [
    {
     "data": {
      "text/html": [
       "<div>\n",
       "<style scoped>\n",
       "    .dataframe tbody tr th:only-of-type {\n",
       "        vertical-align: middle;\n",
       "    }\n",
       "\n",
       "    .dataframe tbody tr th {\n",
       "        vertical-align: top;\n",
       "    }\n",
       "\n",
       "    .dataframe thead th {\n",
       "        text-align: right;\n",
       "    }\n",
       "</style>\n",
       "<table border=\"1\" class=\"dataframe\">\n",
       "  <thead>\n",
       "    <tr style=\"text-align: right;\">\n",
       "      <th></th>\n",
       "      <th>MVP</th>\n",
       "      <th>SSR_mvp</th>\n",
       "      <th>Boot_mvp</th>\n",
       "      <th>SSR_BOOT_MVP</th>\n",
       "      <th>BOOT_SSR_MVP</th>\n",
       "    </tr>\n",
       "  </thead>\n",
       "  <tbody>\n",
       "    <tr>\n",
       "      <th>Return</th>\n",
       "      <td>0.997081</td>\n",
       "      <td>0.985242</td>\n",
       "      <td>NaN</td>\n",
       "      <td>9.835495e-01</td>\n",
       "      <td>9.755635e-01</td>\n",
       "    </tr>\n",
       "    <tr>\n",
       "      <th>SharpeRatio</th>\n",
       "      <td>0.999966</td>\n",
       "      <td>0.984630</td>\n",
       "      <td>NaN</td>\n",
       "      <td>8.272842e-01</td>\n",
       "      <td>7.645949e-01</td>\n",
       "    </tr>\n",
       "    <tr>\n",
       "      <th>Volatility</th>\n",
       "      <td>1.000000</td>\n",
       "      <td>0.000162</td>\n",
       "      <td>NaN</td>\n",
       "      <td>2.294993e-12</td>\n",
       "      <td>7.425787e-12</td>\n",
       "    </tr>\n",
       "    <tr>\n",
       "      <th>TurnoverRate</th>\n",
       "      <td>1.000000</td>\n",
       "      <td>1.000000</td>\n",
       "      <td>NaN</td>\n",
       "      <td>1.000000e+00</td>\n",
       "      <td>1.000000e+00</td>\n",
       "    </tr>\n",
       "    <tr>\n",
       "      <th>MaximumDrawdown</th>\n",
       "      <td>1.000000</td>\n",
       "      <td>0.312344</td>\n",
       "      <td>NaN</td>\n",
       "      <td>9.800785e-06</td>\n",
       "      <td>1.810711e-05</td>\n",
       "    </tr>\n",
       "  </tbody>\n",
       "</table>\n",
       "</div>"
      ],
      "text/plain": [
       "                      MVP   SSR_mvp  Boot_mvp  SSR_BOOT_MVP  BOOT_SSR_MVP\n",
       "Return           0.997081  0.985242       NaN  9.835495e-01  9.755635e-01\n",
       "SharpeRatio      0.999966  0.984630       NaN  8.272842e-01  7.645949e-01\n",
       "Volatility       1.000000  0.000162       NaN  2.294993e-12  7.425787e-12\n",
       "TurnoverRate     1.000000  1.000000       NaN  1.000000e+00  1.000000e+00\n",
       "MaximumDrawdown  1.000000  0.312344       NaN  9.800785e-06  1.810711e-05"
      ]
     },
     "execution_count": 13,
     "metadata": {},
     "output_type": "execute_result"
    }
   ],
   "source": [
    "BS_vs_ensemble_t_stat, BS_vs_ensemble_p_val=test_all_metrics(simple_mean_results, base='Boot_mvp')\n",
    "BS_vs_ensemble_p_val"
   ]
  },
  {
   "cell_type": "code",
   "execution_count": 14,
   "id": "b79689da",
   "metadata": {},
   "outputs": [
    {
     "data": {
      "text/html": [
       "<div>\n",
       "<style scoped>\n",
       "    .dataframe tbody tr th:only-of-type {\n",
       "        vertical-align: middle;\n",
       "    }\n",
       "\n",
       "    .dataframe tbody tr th {\n",
       "        vertical-align: top;\n",
       "    }\n",
       "\n",
       "    .dataframe thead th {\n",
       "        text-align: right;\n",
       "    }\n",
       "</style>\n",
       "<table border=\"1\" class=\"dataframe\">\n",
       "  <thead>\n",
       "    <tr style=\"text-align: right;\">\n",
       "      <th></th>\n",
       "      <th>MVP</th>\n",
       "      <th>SSR_mvp</th>\n",
       "      <th>Boot_mvp</th>\n",
       "      <th>SSR_BOOT_MVP</th>\n",
       "      <th>BOOT_SSR_MVP</th>\n",
       "    </tr>\n",
       "  </thead>\n",
       "  <tbody>\n",
       "    <tr>\n",
       "      <th>Return</th>\n",
       "      <td>2.919117e-03</td>\n",
       "      <td>1.475805e-02</td>\n",
       "      <td>NaN</td>\n",
       "      <td>1.645051e-02</td>\n",
       "      <td>2.443652e-02</td>\n",
       "    </tr>\n",
       "    <tr>\n",
       "      <th>SharpeRatio</th>\n",
       "      <td>3.350200e-05</td>\n",
       "      <td>1.537029e-02</td>\n",
       "      <td>NaN</td>\n",
       "      <td>1.727158e-01</td>\n",
       "      <td>2.354051e-01</td>\n",
       "    </tr>\n",
       "    <tr>\n",
       "      <th>Volatility</th>\n",
       "      <td>1.547903e-20</td>\n",
       "      <td>9.998375e-01</td>\n",
       "      <td>NaN</td>\n",
       "      <td>1.000000e+00</td>\n",
       "      <td>1.000000e+00</td>\n",
       "    </tr>\n",
       "    <tr>\n",
       "      <th>TurnoverRate</th>\n",
       "      <td>2.327711e-07</td>\n",
       "      <td>1.917880e-53</td>\n",
       "      <td>NaN</td>\n",
       "      <td>4.811913e-45</td>\n",
       "      <td>8.776108e-45</td>\n",
       "    </tr>\n",
       "    <tr>\n",
       "      <th>MaximumDrawdown</th>\n",
       "      <td>8.914212e-13</td>\n",
       "      <td>6.876562e-01</td>\n",
       "      <td>NaN</td>\n",
       "      <td>9.999902e-01</td>\n",
       "      <td>9.999819e-01</td>\n",
       "    </tr>\n",
       "  </tbody>\n",
       "</table>\n",
       "</div>"
      ],
      "text/plain": [
       "                          MVP       SSR_mvp  Boot_mvp  SSR_BOOT_MVP  \\\n",
       "Return           2.919117e-03  1.475805e-02       NaN  1.645051e-02   \n",
       "SharpeRatio      3.350200e-05  1.537029e-02       NaN  1.727158e-01   \n",
       "Volatility       1.547903e-20  9.998375e-01       NaN  1.000000e+00   \n",
       "TurnoverRate     2.327711e-07  1.917880e-53       NaN  4.811913e-45   \n",
       "MaximumDrawdown  8.914212e-13  6.876562e-01       NaN  9.999902e-01   \n",
       "\n",
       "                 BOOT_SSR_MVP  \n",
       "Return           2.443652e-02  \n",
       "SharpeRatio      2.354051e-01  \n",
       "Volatility       1.000000e+00  \n",
       "TurnoverRate     8.776108e-45  \n",
       "MaximumDrawdown  9.999819e-01  "
      ]
     },
     "execution_count": 14,
     "metadata": {},
     "output_type": "execute_result"
    }
   ],
   "source": [
    "Boot_simple_mean_t_stat, Boot_simple_mean_p_val=test_all_metrics_other_strat_as_base(simple_mean_results, target='Boot_mvp')\n",
    "Boot_simple_mean_p_val"
   ]
  },
  {
   "cell_type": "code",
   "execution_count": 15,
   "id": "a6c395e1",
   "metadata": {},
   "outputs": [
    {
     "data": {
      "text/html": [
       "<div>\n",
       "<style scoped>\n",
       "    .dataframe tbody tr th:only-of-type {\n",
       "        vertical-align: middle;\n",
       "    }\n",
       "\n",
       "    .dataframe tbody tr th {\n",
       "        vertical-align: top;\n",
       "    }\n",
       "\n",
       "    .dataframe thead th {\n",
       "        text-align: right;\n",
       "    }\n",
       "</style>\n",
       "<table border=\"1\" class=\"dataframe\">\n",
       "  <thead>\n",
       "    <tr style=\"text-align: right;\">\n",
       "      <th></th>\n",
       "      <th>MVP</th>\n",
       "      <th>SSR_mvp</th>\n",
       "      <th>Boot_mvp</th>\n",
       "      <th>SSR_BOOT_MVP</th>\n",
       "      <th>BOOT_SSR_MVP</th>\n",
       "    </tr>\n",
       "  </thead>\n",
       "  <tbody>\n",
       "    <tr>\n",
       "      <th>Return</th>\n",
       "      <td>5.733275e-03</td>\n",
       "      <td>3.109683e-02</td>\n",
       "      <td>NaN</td>\n",
       "      <td>1.239040e-01</td>\n",
       "      <td>7.634258e-02</td>\n",
       "    </tr>\n",
       "    <tr>\n",
       "      <th>SharpeRatio</th>\n",
       "      <td>4.213596e-04</td>\n",
       "      <td>1.749931e-02</td>\n",
       "      <td>NaN</td>\n",
       "      <td>3.274434e-01</td>\n",
       "      <td>2.947725e-01</td>\n",
       "    </tr>\n",
       "    <tr>\n",
       "      <th>Volatility</th>\n",
       "      <td>3.033242e-16</td>\n",
       "      <td>8.834763e-01</td>\n",
       "      <td>NaN</td>\n",
       "      <td>9.999998e-01</td>\n",
       "      <td>1.000000e+00</td>\n",
       "    </tr>\n",
       "    <tr>\n",
       "      <th>TurnoverRate</th>\n",
       "      <td>4.725754e-10</td>\n",
       "      <td>2.383265e-49</td>\n",
       "      <td>NaN</td>\n",
       "      <td>3.269564e-45</td>\n",
       "      <td>6.538204e-42</td>\n",
       "    </tr>\n",
       "    <tr>\n",
       "      <th>MaximumDrawdown</th>\n",
       "      <td>8.210187e-11</td>\n",
       "      <td>1.921541e-01</td>\n",
       "      <td>NaN</td>\n",
       "      <td>9.985509e-01</td>\n",
       "      <td>9.998974e-01</td>\n",
       "    </tr>\n",
       "  </tbody>\n",
       "</table>\n",
       "</div>"
      ],
      "text/plain": [
       "                          MVP       SSR_mvp  Boot_mvp  SSR_BOOT_MVP  \\\n",
       "Return           5.733275e-03  3.109683e-02       NaN  1.239040e-01   \n",
       "SharpeRatio      4.213596e-04  1.749931e-02       NaN  3.274434e-01   \n",
       "Volatility       3.033242e-16  8.834763e-01       NaN  9.999998e-01   \n",
       "TurnoverRate     4.725754e-10  2.383265e-49       NaN  3.269564e-45   \n",
       "MaximumDrawdown  8.210187e-11  1.921541e-01       NaN  9.985509e-01   \n",
       "\n",
       "                 BOOT_SSR_MVP  \n",
       "Return           7.634258e-02  \n",
       "SharpeRatio      2.947725e-01  \n",
       "Volatility       1.000000e+00  \n",
       "TurnoverRate     6.538204e-42  \n",
       "MaximumDrawdown  9.998974e-01  "
      ]
     },
     "execution_count": 15,
     "metadata": {},
     "output_type": "execute_result"
    }
   ],
   "source": [
    "Boot_geo_median_t_stat, Boot_geo_median_p_val=test_all_metrics_other_strat_as_base(geo_median_results, target='Boot_mvp')\n",
    "Boot_geo_median_p_val"
   ]
  },
  {
   "cell_type": "code",
   "execution_count": 16,
   "id": "379fa35b",
   "metadata": {},
   "outputs": [],
   "source": [
    "simple_v_geo_t_stat, simple_v_geo_p_value=test_all_metrics_simple_vs_geo()"
   ]
  },
  {
   "cell_type": "code",
   "execution_count": 17,
   "id": "0e6bb9c7",
   "metadata": {},
   "outputs": [
    {
     "data": {
      "text/html": [
       "<div>\n",
       "<style scoped>\n",
       "    .dataframe tbody tr th:only-of-type {\n",
       "        vertical-align: middle;\n",
       "    }\n",
       "\n",
       "    .dataframe tbody tr th {\n",
       "        vertical-align: top;\n",
       "    }\n",
       "\n",
       "    .dataframe thead th {\n",
       "        text-align: right;\n",
       "    }\n",
       "</style>\n",
       "<table border=\"1\" class=\"dataframe\">\n",
       "  <thead>\n",
       "    <tr style=\"text-align: right;\">\n",
       "      <th></th>\n",
       "      <th>MVP</th>\n",
       "      <th>SSR_mvp</th>\n",
       "      <th>Boot_mvp</th>\n",
       "      <th>SSR_BOOT_MVP</th>\n",
       "      <th>BOOT_SSR_MVP</th>\n",
       "    </tr>\n",
       "  </thead>\n",
       "  <tbody>\n",
       "    <tr>\n",
       "      <th>Return</th>\n",
       "      <td>NaN</td>\n",
       "      <td>0.942677</td>\n",
       "      <td>7.772464e-01</td>\n",
       "      <td>0.113728</td>\n",
       "      <td>0.715987</td>\n",
       "    </tr>\n",
       "    <tr>\n",
       "      <th>SharpeRatio</th>\n",
       "      <td>NaN</td>\n",
       "      <td>0.999991</td>\n",
       "      <td>9.769725e-01</td>\n",
       "      <td>0.884751</td>\n",
       "      <td>0.991086</td>\n",
       "    </tr>\n",
       "    <tr>\n",
       "      <th>Volatility</th>\n",
       "      <td>NaN</td>\n",
       "      <td>1.000000</td>\n",
       "      <td>9.988606e-01</td>\n",
       "      <td>1.000000</td>\n",
       "      <td>1.000000</td>\n",
       "    </tr>\n",
       "    <tr>\n",
       "      <th>TurnoverRate</th>\n",
       "      <td>NaN</td>\n",
       "      <td>1.000000</td>\n",
       "      <td>8.501562e-14</td>\n",
       "      <td>1.000000</td>\n",
       "      <td>0.083270</td>\n",
       "    </tr>\n",
       "    <tr>\n",
       "      <th>MaximumDrawdown</th>\n",
       "      <td>NaN</td>\n",
       "      <td>1.000000</td>\n",
       "      <td>9.984749e-01</td>\n",
       "      <td>1.000000</td>\n",
       "      <td>0.999995</td>\n",
       "    </tr>\n",
       "  </tbody>\n",
       "</table>\n",
       "</div>"
      ],
      "text/plain": [
       "                 MVP   SSR_mvp      Boot_mvp  SSR_BOOT_MVP  BOOT_SSR_MVP\n",
       "Return           NaN  0.942677  7.772464e-01      0.113728      0.715987\n",
       "SharpeRatio      NaN  0.999991  9.769725e-01      0.884751      0.991086\n",
       "Volatility       NaN  1.000000  9.988606e-01      1.000000      1.000000\n",
       "TurnoverRate     NaN  1.000000  8.501562e-14      1.000000      0.083270\n",
       "MaximumDrawdown  NaN  1.000000  9.984749e-01      1.000000      0.999995"
      ]
     },
     "execution_count": 17,
     "metadata": {},
     "output_type": "execute_result"
    }
   ],
   "source": [
    "simple_v_geo_p_value"
   ]
  },
  {
   "cell_type": "code",
   "execution_count": 18,
   "id": "36d0f21b",
   "metadata": {},
   "outputs": [],
   "source": [
    "geo_v_simple_t_stat, geo_v_simple_p_value=test_all_metrics_simple_vs_geo(simple_df=geo_median_results, geo_df=simple_mean_results)"
   ]
  },
  {
   "cell_type": "code",
   "execution_count": 19,
   "id": "40d680db",
   "metadata": {},
   "outputs": [
    {
     "data": {
      "text/html": [
       "<div>\n",
       "<style scoped>\n",
       "    .dataframe tbody tr th:only-of-type {\n",
       "        vertical-align: middle;\n",
       "    }\n",
       "\n",
       "    .dataframe tbody tr th {\n",
       "        vertical-align: top;\n",
       "    }\n",
       "\n",
       "    .dataframe thead th {\n",
       "        text-align: right;\n",
       "    }\n",
       "</style>\n",
       "<table border=\"1\" class=\"dataframe\">\n",
       "  <thead>\n",
       "    <tr style=\"text-align: right;\">\n",
       "      <th></th>\n",
       "      <th>MVP</th>\n",
       "      <th>SSR_mvp</th>\n",
       "      <th>Boot_mvp</th>\n",
       "      <th>SSR_BOOT_MVP</th>\n",
       "      <th>BOOT_SSR_MVP</th>\n",
       "    </tr>\n",
       "  </thead>\n",
       "  <tbody>\n",
       "    <tr>\n",
       "      <th>Return</th>\n",
       "      <td>NaN</td>\n",
       "      <td>5.732271e-02</td>\n",
       "      <td>0.222754</td>\n",
       "      <td>8.862723e-01</td>\n",
       "      <td>2.840132e-01</td>\n",
       "    </tr>\n",
       "    <tr>\n",
       "      <th>SharpeRatio</th>\n",
       "      <td>NaN</td>\n",
       "      <td>8.672151e-06</td>\n",
       "      <td>0.023028</td>\n",
       "      <td>1.152488e-01</td>\n",
       "      <td>8.913995e-03</td>\n",
       "    </tr>\n",
       "    <tr>\n",
       "      <th>Volatility</th>\n",
       "      <td>NaN</td>\n",
       "      <td>7.006295e-18</td>\n",
       "      <td>0.001139</td>\n",
       "      <td>1.227247e-16</td>\n",
       "      <td>5.427315e-09</td>\n",
       "    </tr>\n",
       "    <tr>\n",
       "      <th>TurnoverRate</th>\n",
       "      <td>NaN</td>\n",
       "      <td>4.422926e-34</td>\n",
       "      <td>1.000000</td>\n",
       "      <td>6.302068e-31</td>\n",
       "      <td>9.167295e-01</td>\n",
       "    </tr>\n",
       "    <tr>\n",
       "      <th>MaximumDrawdown</th>\n",
       "      <td>NaN</td>\n",
       "      <td>1.848444e-10</td>\n",
       "      <td>0.001525</td>\n",
       "      <td>9.933044e-08</td>\n",
       "      <td>4.974065e-06</td>\n",
       "    </tr>\n",
       "  </tbody>\n",
       "</table>\n",
       "</div>"
      ],
      "text/plain": [
       "                 MVP       SSR_mvp  Boot_mvp  SSR_BOOT_MVP  BOOT_SSR_MVP\n",
       "Return           NaN  5.732271e-02  0.222754  8.862723e-01  2.840132e-01\n",
       "SharpeRatio      NaN  8.672151e-06  0.023028  1.152488e-01  8.913995e-03\n",
       "Volatility       NaN  7.006295e-18  0.001139  1.227247e-16  5.427315e-09\n",
       "TurnoverRate     NaN  4.422926e-34  1.000000  6.302068e-31  9.167295e-01\n",
       "MaximumDrawdown  NaN  1.848444e-10  0.001525  9.933044e-08  4.974065e-06"
      ]
     },
     "execution_count": 19,
     "metadata": {},
     "output_type": "execute_result"
    }
   ],
   "source": [
    "geo_v_simple_p_value"
   ]
  },
  {
   "cell_type": "code",
   "execution_count": 20,
   "id": "1fd40f73",
   "metadata": {},
   "outputs": [],
   "source": [
    "export_path='hypothesis_testing_results.xlsx'\n",
    "\n",
    "with pd.ExcelWriter(export_path) as writer:\n",
    "    simple_mean_t_stat.to_excel(writer, sheet_name='Simple T-stat MVP Base')\n",
    "    geo_median_t_stat.to_excel(writer, sheet_name='Geo T-stat MVP Base')\n",
    "    \n",
    "    simple_mean_p_val.to_excel(writer, sheet_name='Simple P-Val MVP Base')\n",
    "    geo_median_p_val.to_excel(writer, sheet_name='Geo P-Val MVP Base')\n",
    "    \n",
    "    Boot_simple_mean_t_stat.to_excel(writer, sheet_name='Simple T-stat Boot Target')\n",
    "    Boot_geo_median_t_stat.to_excel(writer, sheet_name='Geo T-stat Boot Target')\n",
    "       \n",
    "    Boot_simple_mean_p_val.to_excel(writer, sheet_name='Simple P-Val Boot Target')\n",
    "    Boot_geo_median_p_val.to_excel(writer, sheet_name='Geo P-Val Boot Target')\n",
    "    \n",
    "    BS_vs_ensemble_t_stat.to_excel(writer, sheet_name='Simple T-stat Boot Base')\n",
    "    BS_vs_ensemble_p_val.to_excel(writer, sheet_name='Simple P-Val Boot Base')\n",
    "    \n",
    "    geo_v_simple_t_stat.to_excel(writer, sheet_name='Geo base v Simple T-stat')\n",
    "    simple_v_geo_t_stat.to_excel(writer, sheet_name='Simple base v Geo T-stat')\n",
    "    \n",
    "    geo_v_simple_p_value.to_excel(writer, sheet_name='Geo base v Simple P-val')\n",
    "    simple_v_geo_p_value.to_excel(writer, sheet_name='Simple base v Geo P-val')\n",
    "    \n",
    "    "
   ]
  },
  {
   "cell_type": "code",
   "execution_count": null,
   "id": "ac3e7c34",
   "metadata": {},
   "outputs": [],
   "source": []
  }
 ],
 "metadata": {
  "kernelspec": {
   "display_name": "Python 3 (ipykernel)",
   "language": "python",
   "name": "python3"
  },
  "language_info": {
   "codemirror_mode": {
    "name": "ipython",
    "version": 3
   },
   "file_extension": ".py",
   "mimetype": "text/x-python",
   "name": "python",
   "nbconvert_exporter": "python",
   "pygments_lexer": "ipython3",
   "version": "3.11.5"
  }
 },
 "nbformat": 4,
 "nbformat_minor": 5
}
